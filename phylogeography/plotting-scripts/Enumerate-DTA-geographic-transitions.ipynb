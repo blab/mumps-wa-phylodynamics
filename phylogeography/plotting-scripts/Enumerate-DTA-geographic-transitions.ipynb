{
 "cells": [
  {
   "cell_type": "markdown",
   "metadata": {},
   "source": [
    "# Parse transitions along DTA trees\n",
    "\n",
    "August 15, 2019 \n",
    "\n",
    "To properly deal with the uncertainty of the number of transitions into Washington, I am going to go through the posterior distribution of trees in the .trees output file from running DTA in beast. I will use the counts of the number of transitions to generate a distribution over the number of transitions. "
   ]
  },
  {
   "cell_type": "code",
   "execution_count": 1,
   "metadata": {},
   "outputs": [
    {
     "name": "stderr",
     "output_type": "stream",
     "text": [
      "WARNING (theano.configdefaults): install mkl with `conda install mkl-service`: No module named 'mkl'\n"
     ]
    }
   ],
   "source": [
    "import sys, subprocess, glob, os, shutil, re, importlib\n",
    "from subprocess import call\n",
    "import imp\n",
    "bt = imp.load_source('baltic', '../../baltic/baltic/baltic.py')\n",
    "\n",
    "%matplotlib inline\n",
    "import matplotlib as mpl\n",
    "from matplotlib import pyplot as plt\n",
    "import matplotlib.patheffects as path_effects\n",
    "import matplotlib.lines as mlines\n",
    "from matplotlib.font_manager import FontProperties\n",
    "import matplotlib.colors as clr\n",
    "import pandas as pd\n",
    "import textwrap as textwrap\n",
    "from textwrap import wrap\n",
    "import pymc3\n",
    "import rpy2\n",
    "import numpy as np\n",
    "from scipy.special import binom\n",
    "\n",
    "%load_ext rpy2.ipython"
   ]
  },
  {
   "cell_type": "code",
   "execution_count": 2,
   "metadata": {},
   "outputs": [],
   "source": [
    "mpl.rcParams['font.serif'] = \"Helvetica\"\n",
    "typeface='Helvetica'\n",
    "mpl.rcParams['font.weight']=300\n",
    "mpl.rcParams['axes.labelweight']=300\n",
    "mpl.rcParams['font.family']=typeface\n",
    "mpl.rcParams['font.size']=16"
   ]
  },
  {
   "cell_type": "code",
   "execution_count": 3,
   "metadata": {},
   "outputs": [],
   "source": [
    "def get_taxa_lines(tree_path):    \n",
    "    \n",
    "    # write out a temp tree file\n",
    "    temp_tree = tree_path.replace(\".trees\",\".temp.tree\")\n",
    "    with open(temp_tree, \"w\") as outfile: \n",
    "        outfile.write(\"\")\n",
    "\n",
    "    lines_to_write = \"\"\n",
    "    with open(tree_path, 'rU') as infile:\n",
    "        for line in infile: ## iterate through each line\n",
    "            if 'state' not in line.lower(): #going to grab all the interesting stuff in the .trees file prior to the newick tree strings\n",
    "                lines_to_write = lines_to_write + line\n",
    "\n",
    "    return(lines_to_write)"
   ]
  },
  {
   "cell_type": "code",
   "execution_count": 4,
   "metadata": {},
   "outputs": [],
   "source": [
    "def get_burnin_value(tree_path, burnin_percent):\n",
    "    with open(tree_path, 'rU') as infile:\n",
    "        numtrees = 0\n",
    "        for line in infile: ## iterate through each line\n",
    "            if 'state' in line.lower(): #going to grab all the interesting stuff in the .trees file prior to the newick tree strings\n",
    "                numtrees += 1\n",
    "    \n",
    "    burnin = numtrees * burnin_percent\n",
    "    return(burnin)"
   ]
  },
  {
   "cell_type": "code",
   "execution_count": 5,
   "metadata": {},
   "outputs": [],
   "source": [
    "def retrieve_subtrees(tree):\n",
    "    \n",
    "    traitName='division'\n",
    "\n",
    "    tree.root.traits[traitName]='ancestor' ## give root node some trait value that's different from what the actual tree root has, so it registers as a switch\n",
    "\n",
    "    tree_strings={division:[] for division in division_order}\n",
    "    subtype_trees={division:[] for division in division_order}\n",
    "\n",
    "    for k in sorted(tree.Objects,key=lambda x:x.height):\n",
    "        kp=k.parent     # kp is the parent node of k\n",
    "\n",
    "        ## get current node's (k) and its parent's (kp) trait states\n",
    "        kloc=k.traits[traitName]      # kloc = trait of k; kc = trait of k; they are the same thing\n",
    "        if traitName in k.parent.traits:       # if parent has a trait block, use that trait, else assign to ancestor\n",
    "            kploc=kp.traits[traitName]              # kploc = trait of parental node\n",
    "        else:\n",
    "            kploc='ancestor'\n",
    "\n",
    "        ## if states do not match\n",
    "        if kloc!=kploc:      # if node and parental node do not have the same trait\n",
    "            #N_children=len(k.leaves)\n",
    "            traverse_condition=lambda w:w.traits[traitName]==kloc     # traverse tree for all nodes whose traitname = kc\n",
    "            #print('subtree resulting from %s>%s switch, traversing within %s')%(kploc,kloc,kloc)\n",
    "\n",
    "            subtree=tree.subtree(k,traverse_condition=traverse_condition) #traitName = traitName ## this function returns a new baltic object that contains a trait-traversed subtree, starting from node k, for as long as the traversal stays within the starting trait value state\n",
    "\n",
    "            if subtree != None:\n",
    "                subtree.traverse_tree()\n",
    "                subtree.sortBranches()\n",
    "                subtype_trees[kloc].append((kploc,subtree))\n",
    "    \n",
    "    return(subtype_trees)"
   ]
  },
  {
   "cell_type": "code",
   "execution_count": 6,
   "metadata": {},
   "outputs": [],
   "source": [
    "def count_transitions(tree_path,temp_tree):\n",
    "    \n",
    "    ## count transitions in the posterior set of trees \n",
    "    trees_per_file={}\n",
    "    transitions_dict = {}\n",
    "    treeCounter = 0\n",
    "\n",
    "    # open .trees file and read in line by line\n",
    "    with open(tree_path, 'rU') as infile:\n",
    "        for line in infile: ## iterate through each line\n",
    "\n",
    "            # write an empty tree to read file; this will get filled in as a new nexus file for each tree in the posterior\n",
    "            with open(temp_tree, \"w\") as outfile:\n",
    "                outfile.write(\"\")\n",
    "\n",
    "            # if tree line...\n",
    "            if 'tree STATE_' in line:\n",
    "                treeCounter += 1\n",
    "                identifier = \" \".join(line.split(\" \")[0:2])\n",
    "\n",
    "                if treeCounter > burnin:\n",
    "\n",
    "                    with open(temp_tree, \"a\") as outfile:\n",
    "                        outfile.write(lines_to_write)\n",
    "                        outfile.write(line)\n",
    "                    tree = bt.loadNexus(temp_tree)\n",
    "\n",
    "                    # run this function to retrieve all of the transitions into Washington (i.e., all the Washington subtrees)\n",
    "                    subtype_trees = retrieve_subtrees(tree)\n",
    "\n",
    "                    # output the number of washington subtrees to dictionary\n",
    "                    transitions_dict[identifier] = len(subtype_trees['washington'])\n",
    "\n",
    "                    with open(dict_outfile, \"a\") as outfile: \n",
    "                        outfile.write(identifier + \"\\t\" + str(len(subtype_trees['washington'])) + \"\\n\")"
   ]
  },
  {
   "cell_type": "code",
   "execution_count": 7,
   "metadata": {},
   "outputs": [],
   "source": [
    "division_order = [\"california\",\"new_york\",\"massachusetts\",\"virginia\",\"georgia\",\"manitoba\",\"arkansas\",\"north_dakota\",\n",
    "          \"louisiana\",\"ontario\",\"texas\",\"indiana\",\"michigan\",\"montana\",\"new_hampshire\",\"ohio\",\n",
    "          \"washington\",\"illinois\",\"kansas\",\"pennsylvania\",\"new_jersey\",\"british_columbia\",\"iowa\",\"missouri\",\n",
    "                 \"north_carolina\",\"alabama\",\"wisconsin\"]"
   ]
  },
  {
   "cell_type": "code",
   "execution_count": 8,
   "metadata": {},
   "outputs": [],
   "source": [
    "# specify tree path\n",
    "tree_path = \"../beast/output/mumps-NA-DTA-skygrid-25-2020-01-16.trees\"\n",
    "\n",
    "# specify burnin percentage\n",
    "dict_outfile = tree_path.replace(\".trees\",\".transitions.txt\")\n",
    "temp_tree = tree_path.replace(\".trees\",\".temp.tree\")\n",
    "burnin_percent = 0.10"
   ]
  },
  {
   "cell_type": "code",
   "execution_count": 9,
   "metadata": {},
   "outputs": [],
   "source": [
    "with open(dict_outfile, \"w\") as outfile:\n",
    "    outfile.write(\"state\\tnumber_transitions\\n\")"
   ]
  },
  {
   "cell_type": "code",
   "execution_count": 10,
   "metadata": {
    "scrolled": true
   },
   "outputs": [
    {
     "name": "stderr",
     "output_type": "stream",
     "text": [
      "/Users/lmoncla/anaconda/envs/LHM-basics/lib/python3.7/site-packages/ipykernel_launcher.py:9: DeprecationWarning: 'U' mode is deprecated\n",
      "  if __name__ == '__main__':\n",
      "/Users/lmoncla/anaconda/envs/LHM-basics/lib/python3.7/site-packages/ipykernel_launcher.py:2: DeprecationWarning: 'U' mode is deprecated\n",
      "  \n"
     ]
    },
    {
     "name": "stdout",
     "output_type": "stream",
     "text": [
      "1000.1\n"
     ]
    }
   ],
   "source": [
    "# get taxa line and burnin number\n",
    "lines_to_write = get_taxa_lines(tree_path)\n",
    "burnin = get_burnin_value(tree_path, burnin_percent)\n",
    "print(burnin)"
   ]
  },
  {
   "cell_type": "code",
   "execution_count": 11,
   "metadata": {},
   "outputs": [
    {
     "name": "stderr",
     "output_type": "stream",
     "text": [
      "/Users/lmoncla/anaconda/envs/LHM-basics/lib/python3.7/site-packages/ipykernel_launcher.py:9: DeprecationWarning: 'U' mode is deprecated\n",
      "  if __name__ == '__main__':\n"
     ]
    }
   ],
   "source": [
    "count_transitions(tree_path,temp_tree)"
   ]
  },
  {
   "cell_type": "code",
   "execution_count": 14,
   "metadata": {},
   "outputs": [
    {
     "name": "stderr",
     "output_type": "stream",
     "text": [
      "/Users/lmoncla/anaconda/envs/LHM-basics/lib/python3.7/site-packages/ipykernel_launcher.py:1: FutureWarning: from_csv is deprecated. Please use read_csv(...) instead. Note that some of the default arguments are different, so please refer to the documentation for from_csv when changing your function calls\n",
      "  \"\"\"Entry point for launching an IPython kernel.\n"
     ]
    },
    {
     "data": {
      "text/html": [
       "<div>\n",
       "<style scoped>\n",
       "    .dataframe tbody tr th:only-of-type {\n",
       "        vertical-align: middle;\n",
       "    }\n",
       "\n",
       "    .dataframe tbody tr th {\n",
       "        vertical-align: top;\n",
       "    }\n",
       "\n",
       "    .dataframe thead th {\n",
       "        text-align: right;\n",
       "    }\n",
       "</style>\n",
       "<table border=\"1\" class=\"dataframe\">\n",
       "  <thead>\n",
       "    <tr style=\"text-align: right;\">\n",
       "      <th></th>\n",
       "      <th>state</th>\n",
       "      <th>number_transitions</th>\n",
       "    </tr>\n",
       "  </thead>\n",
       "  <tbody>\n",
       "    <tr>\n",
       "      <th>0</th>\n",
       "      <td>tree STATE_10000000</td>\n",
       "      <td>14</td>\n",
       "    </tr>\n",
       "    <tr>\n",
       "      <th>1</th>\n",
       "      <td>tree STATE_10010000</td>\n",
       "      <td>13</td>\n",
       "    </tr>\n",
       "    <tr>\n",
       "      <th>2</th>\n",
       "      <td>tree STATE_10020000</td>\n",
       "      <td>12</td>\n",
       "    </tr>\n",
       "    <tr>\n",
       "      <th>3</th>\n",
       "      <td>tree STATE_10030000</td>\n",
       "      <td>11</td>\n",
       "    </tr>\n",
       "    <tr>\n",
       "      <th>4</th>\n",
       "      <td>tree STATE_10040000</td>\n",
       "      <td>15</td>\n",
       "    </tr>\n",
       "  </tbody>\n",
       "</table>\n",
       "</div>"
      ],
      "text/plain": [
       "                 state  number_transitions\n",
       "0  tree STATE_10000000                  14\n",
       "1  tree STATE_10010000                  13\n",
       "2  tree STATE_10020000                  12\n",
       "3  tree STATE_10030000                  11\n",
       "4  tree STATE_10040000                  15"
      ]
     },
     "execution_count": 14,
     "metadata": {},
     "output_type": "execute_result"
    }
   ],
   "source": [
    "df = pd.DataFrame.from_csv(tree_path.replace(\".trees\",\".transitions.txt\"), sep=\"\\t\")\n",
    "df.reset_index(inplace=True)\n",
    "df.head()"
   ]
  },
  {
   "cell_type": "code",
   "execution_count": 15,
   "metadata": {},
   "outputs": [
    {
     "data": {
      "text/plain": [
       "13.507054771692035"
      ]
     },
     "execution_count": 15,
     "metadata": {},
     "output_type": "execute_result"
    }
   ],
   "source": [
    "df['number_transitions'].mean()"
   ]
  },
  {
   "cell_type": "markdown",
   "metadata": {},
   "source": [
    "# Read back in the output file to dataframe and plot"
   ]
  },
  {
   "cell_type": "code",
   "execution_count": 9,
   "metadata": {},
   "outputs": [
    {
     "name": "stderr",
     "output_type": "stream",
     "text": [
      "/Users/lmoncla/anaconda/envs/LHM-basics/lib/python3.7/site-packages/ipykernel_launcher.py:2: FutureWarning: from_csv is deprecated. Please use read_csv(...) instead. Note that some of the default arguments are different, so please refer to the documentation for from_csv when changing your function calls\n",
      "  \n"
     ]
    },
    {
     "data": {
      "text/html": [
       "<div>\n",
       "<style scoped>\n",
       "    .dataframe tbody tr th:only-of-type {\n",
       "        vertical-align: middle;\n",
       "    }\n",
       "\n",
       "    .dataframe tbody tr th {\n",
       "        vertical-align: top;\n",
       "    }\n",
       "\n",
       "    .dataframe thead th {\n",
       "        text-align: right;\n",
       "    }\n",
       "</style>\n",
       "<table border=\"1\" class=\"dataframe\">\n",
       "  <thead>\n",
       "    <tr style=\"text-align: right;\">\n",
       "      <th></th>\n",
       "      <th>state</th>\n",
       "      <th>number_transitions</th>\n",
       "    </tr>\n",
       "  </thead>\n",
       "  <tbody>\n",
       "    <tr>\n",
       "      <th>0</th>\n",
       "      <td>tree STATE_10000000</td>\n",
       "      <td>14</td>\n",
       "    </tr>\n",
       "    <tr>\n",
       "      <th>1</th>\n",
       "      <td>tree STATE_10010000</td>\n",
       "      <td>13</td>\n",
       "    </tr>\n",
       "    <tr>\n",
       "      <th>2</th>\n",
       "      <td>tree STATE_10020000</td>\n",
       "      <td>12</td>\n",
       "    </tr>\n",
       "    <tr>\n",
       "      <th>3</th>\n",
       "      <td>tree STATE_10030000</td>\n",
       "      <td>11</td>\n",
       "    </tr>\n",
       "    <tr>\n",
       "      <th>4</th>\n",
       "      <td>tree STATE_10040000</td>\n",
       "      <td>15</td>\n",
       "    </tr>\n",
       "  </tbody>\n",
       "</table>\n",
       "</div>"
      ],
      "text/plain": [
       "                 state  number_transitions\n",
       "0  tree STATE_10000000                  14\n",
       "1  tree STATE_10010000                  13\n",
       "2  tree STATE_10020000                  12\n",
       "3  tree STATE_10030000                  11\n",
       "4  tree STATE_10040000                  15"
      ]
     },
     "execution_count": 9,
     "metadata": {},
     "output_type": "execute_result"
    }
   ],
   "source": [
    "skygrid = pd.DataFrame.from_csv(\"../beast/output/mumps-NA-DTA-skygrid-25-2020-01-16.transitions.txt\", sep=\"\\t\")\n",
    "skygrid.reset_index(inplace=True)\n",
    "skygrid.head()"
   ]
  },
  {
   "cell_type": "code",
   "execution_count": 10,
   "metadata": {},
   "outputs": [
    {
     "data": {
      "text/plain": [
       "13.507054771692035"
      ]
     },
     "execution_count": 10,
     "metadata": {},
     "output_type": "execute_result"
    }
   ],
   "source": [
    "skygrid['number_transitions'].mean()"
   ]
  },
  {
   "cell_type": "code",
   "execution_count": 11,
   "metadata": {},
   "outputs": [
    {
     "data": {
      "text/plain": [
       "0    13\n",
       "dtype: int64"
      ]
     },
     "execution_count": 11,
     "metadata": {},
     "output_type": "execute_result"
    }
   ],
   "source": [
    "skygrid['number_transitions'].mode()"
   ]
  },
  {
   "cell_type": "code",
   "execution_count": 12,
   "metadata": {},
   "outputs": [
    {
     "data": {
      "text/plain": [
       "array([11, 16])"
      ]
     },
     "execution_count": 12,
     "metadata": {},
     "output_type": "execute_result"
    }
   ],
   "source": [
    "x = skygrid['number_transitions']\n",
    "hpd = pymc3.stats.hpd(x)\n",
    "hpd"
   ]
  },
  {
   "cell_type": "code",
   "execution_count": 17,
   "metadata": {},
   "outputs": [
    {
     "data": {
      "text/html": [
       "<div>\n",
       "<style scoped>\n",
       "    .dataframe tbody tr th:only-of-type {\n",
       "        vertical-align: middle;\n",
       "    }\n",
       "\n",
       "    .dataframe tbody tr th {\n",
       "        vertical-align: top;\n",
       "    }\n",
       "\n",
       "    .dataframe thead th {\n",
       "        text-align: right;\n",
       "    }\n",
       "</style>\n",
       "<table border=\"1\" class=\"dataframe\">\n",
       "  <thead>\n",
       "    <tr style=\"text-align: right;\">\n",
       "      <th></th>\n",
       "      <th>state</th>\n",
       "      <th>number_transitions</th>\n",
       "    </tr>\n",
       "  </thead>\n",
       "  <tbody>\n",
       "    <tr>\n",
       "      <th>0</th>\n",
       "      <td>tree STATE_10000000</td>\n",
       "      <td>14</td>\n",
       "    </tr>\n",
       "    <tr>\n",
       "      <th>1</th>\n",
       "      <td>tree STATE_10010000</td>\n",
       "      <td>13</td>\n",
       "    </tr>\n",
       "    <tr>\n",
       "      <th>2</th>\n",
       "      <td>tree STATE_10020000</td>\n",
       "      <td>12</td>\n",
       "    </tr>\n",
       "    <tr>\n",
       "      <th>3</th>\n",
       "      <td>tree STATE_10030000</td>\n",
       "      <td>11</td>\n",
       "    </tr>\n",
       "    <tr>\n",
       "      <th>4</th>\n",
       "      <td>tree STATE_10040000</td>\n",
       "      <td>15</td>\n",
       "    </tr>\n",
       "  </tbody>\n",
       "</table>\n",
       "</div>"
      ],
      "text/plain": [
       "                 state  number_transitions\n",
       "0  tree STATE_10000000                  14\n",
       "1  tree STATE_10010000                  13\n",
       "2  tree STATE_10020000                  12\n",
       "3  tree STATE_10030000                  11\n",
       "4  tree STATE_10040000                  15"
      ]
     },
     "execution_count": 17,
     "metadata": {},
     "output_type": "execute_result"
    }
   ],
   "source": [
    "skygrid.head()"
   ]
  },
  {
   "cell_type": "code",
   "execution_count": 20,
   "metadata": {},
   "outputs": [
    {
     "data": {
      "image/png": "[encoded data removed]"
     },
     "metadata": {},
     "output_type": "display_data"
    }
   ],
   "source": [
    "%%R -w 1000 -h 500 -u px -i skygrid  # this sets the size of the plot...otherwise, it will go off the page\n",
    "require(ggplot2)\n",
    "library(ggplot2)\n",
    "\n",
    "skygrid$number_transitions = as.character(skygrid$number_transitions)\n",
    "skygrid$number_transitions = factor(skygrid$number_transitions, levels=c(\"9\",\"10\",\"11\",\"12\",\"13\",\"14\",\"15\",\"16\",\"17\",\"18\",\"19\",\"20\"))\n",
    "\n",
    "p <- ggplot(data=skygrid, aes(x=number_transitions)) + \n",
    "    geom_bar(aes(y = (..count..)/sum(..count..)))+\n",
    "    labs(x=\"introductions\",y=\"proportion of trees\")+\n",
    "    #ggtitle(\"Re estimates\") + \n",
    "    theme(plot.title = element_text(size=20, hjust=0.5))+\n",
    "    scale_x_discrete(breaks=c(\"9\",\"\",\"11\",\"\",\"13\",\"\",\"15\",\"\",\"17\",\"\",\"19\",\"\"))+\n",
    "    scale_y_continuous(limits=c(0,0.4), breaks=seq(0,0.4,0.1))+\n",
    "    #scale_color_manual(values=c(\"#4784C7\", \"#E39B39\"))+\n",
    "    #scale_fill_manual(values=c(\"#4784C7\", \"#E39B39\"))+\n",
    "    theme(panel.grid.major=element_line(colour=NA,size=NA))+\n",
    "    theme(panel.grid.minor=element_line(colour=NA,size=NA))+    \n",
    "    theme(strip.background = element_rect(colour=NA, fill=NA))+\n",
    "    theme(axis.line.x=element_line(colour=\"black\"))+\n",
    "    theme(axis.line.y=element_line(colour=\"black\"))+\n",
    "    theme(strip.text.x=element_text(size=16))+\n",
    "    theme(axis.title.y=element_text(size=20, vjust=4))+\n",
    "    theme(axis.title.x=element_text(size=20, vjust=-3))+\n",
    "    theme(axis.text=element_text(size=20, colour=\"black\"))+\n",
    "    theme(axis.text.x=element_text(size=20))+\n",
    "    theme(legend.title=element_blank())+\n",
    "    theme(panel.margin=unit(1, \"lines\"))+\n",
    "    theme(plot.margin=unit(c(1,1,1,1),\"cm\"))+\n",
    "    theme(legend.key.size=unit(0.7, \"cm\"))+\n",
    "    theme(panel.background=element_rect(fill=NA))+\n",
    "    theme(legend.key=element_rect(fill=NA))\n",
    "\n",
    "ggsave(\"2020-09-15-DTA-skygrid-25-WA-introductions.pdf\", p, width = 5, height = 3.5, path=\"/Users/lmoncla/Documents/Mumps/paper-and-figure-drafts/individual-PDFs/\")\n",
    "p"
   ]
  },
  {
   "cell_type": "code",
   "execution_count": null,
   "metadata": {},
   "outputs": [],
   "source": []
  },
  {
   "cell_type": "code",
   "execution_count": null,
   "metadata": {},
   "outputs": [],
   "source": []
  }
 ],
 "metadata": {
  "kernelspec": {
   "display_name": "LHM-basics (python3)",
   "language": "python",
   "name": "lhm-basics"
  },
  "language_info": {
   "codemirror_mode": {
    "name": "ipython",
    "version": 3
   },
   "file_extension": ".py",
   "mimetype": "text/x-python",
   "name": "python",
   "nbconvert_exporter": "python",
   "pygments_lexer": "ipython3",
   "version": "3.7.3"
  }
 },
 "nbformat": 4,
 "nbformat_minor": 2
}
